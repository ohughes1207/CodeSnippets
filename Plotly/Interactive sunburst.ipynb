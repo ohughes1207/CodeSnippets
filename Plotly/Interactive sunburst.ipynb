{
 "cells": [
  {
   "cell_type": "code",
   "execution_count": null,
   "metadata": {},
   "outputs": [],
   "source": [
    "temp_df = df.copy()\n",
    "temp_df['Type 2'] = temp_df['Type 2'].fillna('None')\n",
    "fig = px.sunburst(\n",
    "    temp_df, path=[px.Constant(\"all\"), 'Generation', 'Type 1', 'Type 2'], color='Type 1')\n",
    "fig.show()"
   ]
  }
 ],
 "metadata": {
  "language_info": {
   "name": "python"
  },
  "orig_nbformat": 4
 },
 "nbformat": 4,
 "nbformat_minor": 2
}

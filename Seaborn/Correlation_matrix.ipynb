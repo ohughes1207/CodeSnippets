{
 "cells": [
  {
   "cell_type": "code",
   "execution_count": null,
   "metadata": {},
   "outputs": [],
   "source": [
    "key = df.keys()\n",
    "num_feats_l = [x for x in key if df.dtypes[x] == 'int64']\n",
    "corr = df[num_feats_l].corr()\n",
    "\n",
    "sns.heatmap(corr)"
   ]
  }
 ],
 "metadata": {
  "language_info": {
   "name": "python"
  },
  "orig_nbformat": 4
 },
 "nbformat": 4,
 "nbformat_minor": 2
}
